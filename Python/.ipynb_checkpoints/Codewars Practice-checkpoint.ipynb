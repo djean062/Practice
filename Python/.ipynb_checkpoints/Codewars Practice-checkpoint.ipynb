{
 "cells": [
  {
   "cell_type": "code",
   "execution_count": 163,
   "metadata": {},
   "outputs": [],
   "source": [
    "import re\n",
    "sentence = \"is2 Thi1s T4est 3a\"\n",
    "def order(sentence):\n",
    "    sentence = sentence.split()\n",
    "    a = []\n",
    "    for word in sentence:\n",
    "        split_word = re.split('',word)\n",
    "        a.append(split_word)\n",
    "    b = []\n",
    "    for split_word in a:\n",
    "        for letter in split_word:\n",
    "            try:\n",
    "                letter = int(letter)\n",
    "            except:\n",
    "                print(\"Not the number yet\")\n",
    "            b.append(letter)\n",
    "    b.sort()\n",
    "#                 b.append(split_word)\n",
    "\n",
    "#     b = []\n",
    "#     for i in a:\n",
    "#         for j in i:\n",
    "#             d = re.findall('0-9',j)\n",
    "    return b.sort()\n",
    "#             if int(j) in range(1,10):\n",
    "#                 b.append(a)"
   ]
  },
  {
   "cell_type": "code",
   "execution_count": 12,
   "metadata": {},
   "outputs": [],
   "source": [
    "import re\n",
    "import numpy as np\n",
    "string = 'is2 Thi1s T4est 3a'\n",
    "def order(string):    \n",
    "    new_string = list(np.zeros(len(string.split())))\n",
    "    for word in string.split():\n",
    "       letters = re.findall('\\w', word)\n",
    "       for letter in letters:\n",
    "           if letter.isdigit():\n",
    "               new_string[int(letter)-1]= word\n",
    "    return new_string"
   ]
  },
  {
   "cell_type": "code",
   "execution_count": 13,
   "metadata": {},
   "outputs": [
    {
     "data": {
      "text/plain": [
       "['Thi1s', 'is2', '3a', 'T4est']"
      ]
     },
     "execution_count": 13,
     "metadata": {},
     "output_type": "execute_result"
    }
   ],
   "source": [
    "z = \"is2 Thi1s T4est 3a\"\n",
    "order(z)"
   ]
  },
  {
   "cell_type": "code",
   "execution_count": 170,
   "metadata": {},
   "outputs": [
    {
     "data": {
      "text/plain": [
       "['3a', 'T4est', 'Thi1s', 'is2']"
      ]
     },
     "execution_count": 170,
     "metadata": {},
     "output_type": "execute_result"
    }
   ],
   "source": [
    "sorted(z)"
   ]
  },
  {
   "cell_type": "code",
   "execution_count": 178,
   "metadata": {},
   "outputs": [],
   "source": [
    "s=\"aaabbbbhaijjjmxx\""
   ]
  },
  {
   "cell_type": "code",
   "execution_count": 221,
   "metadata": {},
   "outputs": [],
   "source": [
    "import re\n",
    "def printer_error(s):\n",
    "    a = re.findall('[n-z]',s)\n",
    "    a = str(len(a))\n",
    "    b = str(len(s))\n",
    "    return a+'/'+b "
   ]
  },
  {
   "cell_type": "code",
   "execution_count": 222,
   "metadata": {},
   "outputs": [
    {
     "data": {
      "text/plain": [
       "'2/16'"
      ]
     },
     "execution_count": 222,
     "metadata": {},
     "output_type": "execute_result"
    }
   ],
   "source": [
    "printer_error(s)"
   ]
  },
  {
   "cell_type": "code",
   "execution_count": 3,
   "metadata": {},
   "outputs": [],
   "source": [
    "x = 2\n",
    "def double_integer(x):\n",
    "    return x*2"
   ]
  },
  {
   "cell_type": "code",
   "execution_count": 8,
   "metadata": {},
   "outputs": [],
   "source": [
    "def expression_matter(a, b, c):\n",
    "    d = max(a*(b+c), a*b*c, a+b*c, (a+b)*c, a+b+c)\n",
    "    return d"
   ]
  },
  {
   "cell_type": "code",
   "execution_count": 24,
   "metadata": {},
   "outputs": [],
   "source": [
    "seq = [20,1,-1,2,-2,3,3,5,5,1,2,4,20,4,-1,-2,5]\n",
    "def find_it(seq):\n",
    "    odd = []\n",
    "    for i in seq:\n",
    "        count(i)\n",
    "        else:\n",
    "            pass\n",
    "    return odd"
   ]
  },
  {
   "cell_type": "code",
   "execution_count": 25,
   "metadata": {},
   "outputs": [
    {
     "data": {
      "text/plain": [
       "[1, -1, 3, 3, 5, 5, 1, -1, 5]"
      ]
     },
     "execution_count": 25,
     "metadata": {},
     "output_type": "execute_result"
    }
   ],
   "source": [
    "find_it(seq)"
   ]
  },
  {
   "cell_type": "code",
   "execution_count": 27,
   "metadata": {},
   "outputs": [
    {
     "data": {
      "text/plain": [
       "2"
      ]
     },
     "execution_count": 27,
     "metadata": {},
     "output_type": "execute_result"
    }
   ],
   "source": [
    "seq = [20,1,-1,2,-2,3,3,5,5,1,2,4,20,4,-1,-2,5]\n",
    "for i in seq:\n",
    "    if seq.count(i)%2 != 0:\n",
    "        return i"
   ]
  },
  {
   "cell_type": "code",
   "execution_count": null,
   "metadata": {},
   "outputs": [],
   "source": []
  }
 ],
 "metadata": {
  "kernelspec": {
   "display_name": "Python 3",
   "language": "python",
   "name": "python3"
  },
  "language_info": {
   "codemirror_mode": {
    "name": "ipython",
    "version": 3
   },
   "file_extension": ".py",
   "mimetype": "text/x-python",
   "name": "python",
   "nbconvert_exporter": "python",
   "pygments_lexer": "ipython3",
   "version": "3.7.4"
  }
 },
 "nbformat": 4,
 "nbformat_minor": 2
}
